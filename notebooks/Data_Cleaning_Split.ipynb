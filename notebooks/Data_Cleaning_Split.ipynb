{
 "cells": [
  {
   "cell_type": "code",
   "execution_count": 1,
   "metadata": {},
   "outputs": [],
   "source": [
    "import pandas as pd\n",
    "import numpy as np"
   ]
  },
  {
   "cell_type": "code",
   "execution_count": 2,
   "metadata": {},
   "outputs": [],
   "source": [
    "train_size = 0.7\n",
    "dev_size = 0.1\n",
    "test_size = 0.2"
   ]
  },
  {
   "cell_type": "code",
   "execution_count": 3,
   "metadata": {},
   "outputs": [],
   "source": [
    "df = pd.read_csv(\"../data/raw/bank-full.csv\")\n",
    "df = df.rename(columns={'default': 'credit_default', 'loan': 'personal_loan', 'contact': 'contact_type', 'poutcome': 'previous_campaign'})\n",
    "columns = df.columns"
   ]
  },
  {
   "cell_type": "code",
   "execution_count": 4,
   "metadata": {},
   "outputs": [
    {
     "data": {
      "text/plain": [
       "age                   int64\n",
       "job                  object\n",
       "marital              object\n",
       "education            object\n",
       "credit_default       object\n",
       "balance               int64\n",
       "housing              object\n",
       "personal_loan        object\n",
       "contact_type         object\n",
       "day                   int64\n",
       "month                object\n",
       "duration              int64\n",
       "campaign              int64\n",
       "pdays                 int64\n",
       "previous              int64\n",
       "previous_campaign    object\n",
       "target               object\n",
       "dtype: object"
      ]
     },
     "execution_count": 4,
     "metadata": {},
     "output_type": "execute_result"
    }
   ],
   "source": [
    "#frac=1 tells us to re-sample our data (basically spilling up our rows and random_state to sample data randomly)\n",
    "df = df.sample(frac=1, random_state=42)\n",
    "df.dtypes"
   ]
  },
  {
   "cell_type": "code",
   "execution_count": 5,
   "metadata": {},
   "outputs": [],
   "source": [
    "#convert the target variables to 1's and 0's\n",
    "clean_up_data = {\"target\": {\"yes\":1, \"no\":0}}\n",
    "df.replace(clean_up_data, inplace=True)\n"
   ]
  },
  {
   "cell_type": "code",
   "execution_count": 6,
   "metadata": {},
   "outputs": [
    {
     "data": {
      "text/plain": [
       "age                   int64\n",
       "job                  object\n",
       "marital              object\n",
       "education            object\n",
       "credit_default       object\n",
       "balance               int64\n",
       "housing              object\n",
       "personal_loan        object\n",
       "contact_type         object\n",
       "day                   int64\n",
       "month                object\n",
       "duration              int64\n",
       "campaign              int64\n",
       "pdays                 int64\n",
       "previous              int64\n",
       "previous_campaign    object\n",
       "target                int64\n",
       "dtype: object"
      ]
     },
     "execution_count": 6,
     "metadata": {},
     "output_type": "execute_result"
    }
   ],
   "source": [
    "df.dtypes"
   ]
  },
  {
   "cell_type": "code",
   "execution_count": 7,
   "metadata": {},
   "outputs": [],
   "source": [
    "# apply one-hot encoding for categorical variables - use dummies in pandas\n",
    "#https://www.analyticsvidhya.com/blog/2020/03/one-hot-encoding-vs-label-encoding-using-scikit-learn/\n",
    "\n",
    "df_num = df.select_dtypes(include=[int])\n",
    "df_obj = df.select_dtypes(include=[object])\n",
    "# df_obj.head(5)\n",
    "df_dummy = pd.get_dummies(data=df_obj, columns=df_obj.columns)\n",
    "# df_dummy.dtypes\n",
    "df = pd.concat([df_num,df_dummy], axis=1)"
   ]
  },
  {
   "cell_type": "code",
   "execution_count": 8,
   "metadata": {},
   "outputs": [
    {
     "data": {
      "text/plain": [
       "Index(['age', 'balance', 'day', 'duration', 'campaign', 'pdays', 'previous',\n",
       "       'target', 'job_admin.', 'job_blue-collar', 'job_entrepreneur',\n",
       "       'job_housemaid', 'job_management', 'job_retired', 'job_self-employed',\n",
       "       'job_services', 'job_student', 'job_technician', 'job_unemployed',\n",
       "       'job_unknown', 'marital_divorced', 'marital_married', 'marital_single',\n",
       "       'education_primary', 'education_secondary', 'education_tertiary',\n",
       "       'education_unknown', 'credit_default_no', 'credit_default_yes',\n",
       "       'housing_no', 'housing_yes', 'personal_loan_no', 'personal_loan_yes',\n",
       "       'contact_type_cellular', 'contact_type_telephone',\n",
       "       'contact_type_unknown', 'month_apr', 'month_aug', 'month_dec',\n",
       "       'month_feb', 'month_jan', 'month_jul', 'month_jun', 'month_mar',\n",
       "       'month_may', 'month_nov', 'month_oct', 'month_sep',\n",
       "       'previous_campaign_failure', 'previous_campaign_other',\n",
       "       'previous_campaign_success', 'previous_campaign_unknown'],\n",
       "      dtype='object')"
      ]
     },
     "execution_count": 8,
     "metadata": {},
     "output_type": "execute_result"
    }
   ],
   "source": [
    "\n",
    "columns = df.columns\n",
    "#store data into arrays\n",
    "data_array = df.values\n",
    "data_shape = data_array.shape\n",
    "# data_array\n",
    "columns\n",
    "df.columns"
   ]
  },
  {
   "cell_type": "code",
   "execution_count": 9,
   "metadata": {},
   "outputs": [],
   "source": [
    "#split data based on the size\n",
    "train_length = round(data_array.shape[0] * train_size)\n",
    "dev_length = round(data_array.shape[0] * dev_size)\n",
    "test_length = round(data_array.shape[0] * test_size)\n",
    "\n",
    "#get the data into arrays\n",
    "train_array = data_array[:train_length]\n",
    "dev_array = data_array[train_length:(train_length + dev_length)]\n",
    "test_array = data_array[(train_length+dev_length):]"
   ]
  },
  {
   "cell_type": "code",
   "execution_count": 10,
   "metadata": {},
   "outputs": [],
   "source": [
    "np.save(\"../data/interim/train_data.npy\", train_array)\n",
    "np.save(\"../data/interim/dev_data.npy\", dev_array)\n",
    "np.save(\"../data/interim/test_data.npy\", test_array)"
   ]
  },
  {
   "cell_type": "code",
   "execution_count": 11,
   "metadata": {},
   "outputs": [
    {
     "data": {
      "text/plain": [
       "(4521, 52)"
      ]
     },
     "execution_count": 11,
     "metadata": {},
     "output_type": "execute_result"
    }
   ],
   "source": [
    "#test if data is loaded correctly\n",
    "sample_test = np.load(\"../data/interim/dev_data.npy\", allow_pickle=True)\n",
    "sample_test.shape"
   ]
  },
  {
   "cell_type": "code",
   "execution_count": null,
   "metadata": {},
   "outputs": [],
   "source": []
  }
 ],
 "metadata": {
  "kernelspec": {
   "display_name": "Python 3",
   "language": "python",
   "name": "python3"
  },
  "language_info": {
   "codemirror_mode": {
    "name": "ipython",
    "version": 3
   },
   "file_extension": ".py",
   "mimetype": "text/x-python",
   "name": "python",
   "nbconvert_exporter": "python",
   "pygments_lexer": "ipython3",
   "version": "3.8.5"
  }
 },
 "nbformat": 4,
 "nbformat_minor": 4
}

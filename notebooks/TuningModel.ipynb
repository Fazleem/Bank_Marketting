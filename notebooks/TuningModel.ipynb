{
 "cells": [
  {
   "cell_type": "code",
   "execution_count": 1,
   "id": "sized-focus",
   "metadata": {},
   "outputs": [],
   "source": [
    "from comet_ml import Experiment\n",
    "import pandas as pd\n",
    "import numpy as np\n",
    "from pprint import pprint\n",
    "from sklearn.pipeline import Pipeline\n",
    "from sklearn.ensemble import RandomForestClassifier, GradientBoostingClassifier\n",
    "from sklearn.model_selection import RandomizedSearchCV\n",
    "from joblib import dump\n",
    "from time import time\n",
    "import json\n",
    "from sklearn.preprocessing import StandardScaler"
   ]
  },
  {
   "cell_type": "code",
   "execution_count": 2,
   "id": "mathematical-verse",
   "metadata": {},
   "outputs": [
    {
     "name": "stderr",
     "output_type": "stream",
     "text": [
      "COMET INFO: Experiment is live on comet.ml https://www.comet.ml/fazleem/bank-marketing/509cd777ed6e4282a75ebc800d62e8d7\n",
      "\n"
     ]
    },
    {
     "name": "stdout",
     "output_type": "stream",
     "text": [
      "<comet_ml.Experiment object at 0x7fc09c28ce50>\n"
     ]
    }
   ],
   "source": [
    "with open('../data/raw/comet_creds.json') as file:\n",
    "    comet_creds = json.load(file)\n",
    "exp = Experiment(api_key=comet_creds['api_key'], project_name=comet_creds['project_name'],workspace=comet_creds[\"workspace\"])    \n",
    "print(exp)"
   ]
  },
  {
   "cell_type": "code",
   "execution_count": 3,
   "id": "restricted-depth",
   "metadata": {},
   "outputs": [],
   "source": [
    "train_data = np.load(\"../data/interim/train_data.npy\", allow_pickle=True)\n",
    "dev_data = np.load(\"../data/interim/dev_data.npy\", allow_pickle=True)\n",
    "test_data = np.load(\"../data/interim/test_data.npy\", allow_pickle=True)\n",
    "save_model = \"../models/model_randomforest.pkl\"\n",
    "n_experiments = 5"
   ]
  },
  {
   "cell_type": "code",
   "execution_count": 4,
   "id": "statutory-vintage",
   "metadata": {},
   "outputs": [],
   "source": [
    "columns = ['age', 'balance', 'day', 'duration', 'campaign', 'pdays', 'previous',\n",
    "       'target', 'job_admin.', 'job_blue-collar', 'job_entrepreneur',\n",
    "       'job_housemaid', 'job_management', 'job_retired', 'job_self-employed',\n",
    "       'job_services', 'job_student', 'job_technician', 'job_unemployed',\n",
    "       'job_unknown', 'marital_divorced', 'marital_married', 'marital_single',\n",
    "       'education_primary', 'education_secondary', 'education_tertiary',\n",
    "       'education_unknown', 'credit_default_no', 'credit_default_yes',\n",
    "       'housing_no', 'housing_yes', 'personal_loan_no', 'personal_loan_yes',\n",
    "       'contact_type_cellular', 'contact_type_telephone',\n",
    "       'contact_type_unknown', 'month_apr', 'month_aug', 'month_dec',\n",
    "       'month_feb', 'month_jan', 'month_jul', 'month_jun', 'month_mar',\n",
    "       'month_may', 'month_nov', 'month_oct', 'month_sep',\n",
    "       'previous_campaign_failure', 'previous_campaign_other',\n",
    "       'previous_campaign_success', 'previous_campaign_unknown']"
   ]
  },
  {
   "cell_type": "code",
   "execution_count": 8,
   "id": "focused-equilibrium",
   "metadata": {},
   "outputs": [
    {
     "data": {
      "text/plain": [
       "(4521, 52)"
      ]
     },
     "execution_count": 8,
     "metadata": {},
     "output_type": "execute_result"
    }
   ],
   "source": [
    "train_data.shape\n",
    "dev_data.shape"
   ]
  },
  {
   "cell_type": "code",
   "execution_count": 9,
   "id": "significant-coach",
   "metadata": {},
   "outputs": [
    {
     "name": "stdout",
     "output_type": "stream",
     "text": [
      "(36169, 51) (36169,)\n"
     ]
    }
   ],
   "source": [
    "combined_data = np.concatenate([train_data,dev_data])\n",
    "df = pd.DataFrame(combined_data, columns=columns)\n",
    "df_test = pd.DataFrame(test_data, columns=columns)"
   ]
  },
  {
   "cell_type": "code",
   "execution_count": 10,
   "id": "domestic-paradise",
   "metadata": {},
   "outputs": [
    {
     "name": "stdout",
     "output_type": "stream",
     "text": [
      "(36169, 51) (36169,)\n",
      "(9042, 51) (9042,)\n"
     ]
    }
   ],
   "source": [
    "# store the x and y for test and train\n",
    "y = df['target']\n",
    "X = df.drop(['target'], axis=1)\n",
    "print(X.shape, y.shape)\n",
    "\n",
    "Y_test = df_test['target']\n",
    "X_test = df_test.drop(['target'], axis=1)\n",
    "print(X_test.shape, Y_test.shape)"
   ]
  },
  {
   "cell_type": "code",
   "execution_count": 12,
   "id": "alpha-rover",
   "metadata": {},
   "outputs": [],
   "source": [
    "#create pipelines for Random forest and Gradient Boost\n",
    "## Pipeline creation steps\n",
    "## 1. Data Preprocessing using Standard Scalar\n",
    "## 2. Apply classifier\n",
    "pipeline_rf = Pipeline([('scalar1', StandardScaler()), ('rf_classifier',RandomForestClassifier())])\n",
    "pipeline_gb = Pipeline([('scalar1', StandardScaler()), ('gb_classifier',GradientBoostingClassifier())])\n",
    "pipelines = [pipeline_rf, pipeline_gb]"
   ]
  },
  {
   "cell_type": "code",
   "execution_count": 14,
   "id": "human-isaac",
   "metadata": {},
   "outputs": [],
   "source": [
    "best_accuracy = 0.0\n",
    "best_model = 0\n",
    "best_classifier = ''\n",
    "\n",
    "# pipe_dict = {0:'Random Forest', 1:'Gradient Boost'}"
   ]
  },
  {
   "cell_type": "code",
   "execution_count": null,
   "id": "potential-appearance",
   "metadata": {},
   "outputs": [],
   "source": [
    "\"\"\"Random Forest Parameter Tuning\"\"\"\n",
    "def RF_Tuned_Param(X,Y):\n",
    "    # Using RandomSearchCV to find out the best set of parameters for RFR and use it for the regression model analysis and prediction:\n",
    "\n",
    "    # Number of trees in random forest:\n",
    "    n_estimators = [int(x) for x in np.linspace(start=5, stop= 50, num= 10)]\n",
    "\n",
    "    # Number of features to consider at every split:\n",
    "    max_features = ['auto','sqrt','log2']\n",
    "\n",
    "    # Maximun number of levels in tree:\n",
    "    max_depth = [int(x) for x in np.linspace(start=10, stop= 30, num= 5)]\n",
    "\n",
    "    # Minimum number of samples required to split a node:\n",
    "    min_samples_split = [5,10]\n",
    "\n",
    "    # Minimum number of samples required at each leaf node\n",
    "    min_samples_leaf = [1, 2, 5, 10]\n",
    "\n",
    "    # Bootstrap method:\n",
    "    bootstrap = [True,False]\n",
    "\n",
    "    # Create the parameter grid\n",
    "    param_grid_RF = {'n_estimators': n_estimators,\n",
    "                  'max_features': max_features,\n",
    "                  'max_depth': max_depth,\n",
    "                  'min_samples_split': min_samples_split,\n",
    "                  'min_samples_leaf': min_samples_leaf,\n",
    "                  'bootstrap': bootstrap}\n",
    "    pprint(param_grid_RF)\n",
    "\n",
    "    # forest = RandomForestRegressor()\n",
    "    random_search_forest = RandomizedSearchCV(RFR_Model, param_grid_RF, cv=3, n_jobs=6, verbose=1)\n",
    "    random_search_forest.fit(X, Y)\n",
    "\n",
    "    # The best parameters for the Random forest regressor obtained from GridSearch CV:\n",
    "    print('Best_Parameters for Random Forest class',random_search_forest.best_params_)\n",
    "\n",
    "    # The best score for Random forest regressor after GridSearch CV:\n",
    "    print('Best_score for Random Forest Regressor',random_search_forest.best_score_)\n",
    "\n",
    "    return random_search_forest, random_search_forest.best_params_, random_search_forest.best_score_\n"
   ]
  },
  {
   "cell_type": "code",
   "execution_count": 15,
   "id": "mobile-porter",
   "metadata": {},
   "outputs": [
    {
     "name": "stderr",
     "output_type": "stream",
     "text": [
      "COMET ERROR: Failed to extract parameters from estimator\n"
     ]
    },
    {
     "name": "stdout",
     "output_type": "stream",
     "text": [
      "Fitting 5 folds for each of 10 candidates, totalling 50 fits\n"
     ]
    },
    {
     "name": "stderr",
     "output_type": "stream",
     "text": [
      "COMET ERROR: Failed to extract parameters from estimator\n",
      "COMET ERROR: Failed to extract parameters from estimator\n"
     ]
    }
   ],
   "source": [
    "#create a pipeline\n",
    "pipe = Pipeline([('classifier', RandomForestClassifier())])\n",
    "#create dictionary with learning algorithms and their hyper parameters\n",
    "\n",
    "random_params = [\n",
    "    {\n",
    "    'classifier': [RandomForestClassifier()],\n",
    "    'classifier__n_estimators': (100,1000,5000),\n",
    "    'classifier__max_depth': (None, 5,10, 15),\n",
    "    'classifier__min_samples_split': (2,4,6)\n",
    "    },\n",
    "    {\n",
    "    'classifier': [GradientBoostingClassifier()],\n",
    "    'classifier__n_estimators': (100,1000,5000),\n",
    "    'classifier__max_depth': (None, 5,10, 15),\n",
    "    'classifier__min_samples_split': (2,4,6)\n",
    "    }\n",
    "]\n",
    "randomsearch = RandomizedSearchCV(pipe, random_params, n_iter=10, n_jobs=-1, verbose=1, cv=5, scoring=\"f1_weighted\", random_state=42)\n",
    "best_model = randomsearch.fit(X,y)"
   ]
  },
  {
   "cell_type": "code",
   "execution_count": 17,
   "id": "experienced-ethiopia",
   "metadata": {},
   "outputs": [
    {
     "name": "stdout",
     "output_type": "stream",
     "text": [
      "Pipeline(steps=[('classifier', GradientBoostingClassifier(max_depth=10))])\n",
      "{'classifier__n_estimators': 100, 'classifier__min_samples_split': 2, 'classifier__max_depth': 10, 'classifier': GradientBoostingClassifier(max_depth=10)}\n",
      "0.9019972496012364\n"
     ]
    }
   ],
   "source": [
    "print(best_model.best_estimator_)\n",
    "print(best_model.best_params_)\n",
    "print(best_model.score(X_test,Y_test))"
   ]
  },
  {
   "cell_type": "code",
   "execution_count": 20,
   "id": "legendary-treatment",
   "metadata": {},
   "outputs": [],
   "source": [
    "dump(best_model.best_estimator_, open(save_model,'wb'))"
   ]
  },
  {
   "cell_type": "code",
   "execution_count": null,
   "id": "collect-rugby",
   "metadata": {},
   "outputs": [],
   "source": []
  }
 ],
 "metadata": {
  "kernelspec": {
   "display_name": "Python 3",
   "language": "python",
   "name": "python3"
  },
  "language_info": {
   "codemirror_mode": {
    "name": "ipython",
    "version": 3
   },
   "file_extension": ".py",
   "mimetype": "text/x-python",
   "name": "python",
   "nbconvert_exporter": "python",
   "pygments_lexer": "ipython3",
   "version": "3.8.5"
  }
 },
 "nbformat": 4,
 "nbformat_minor": 5
}
